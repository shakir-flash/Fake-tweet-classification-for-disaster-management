{
  "nbformat": 4,
  "nbformat_minor": 0,
  "metadata": {
    "colab": {
      "provenance": []
    },
    "kernelspec": {
      "name": "python3",
      "display_name": "Python 3"
    },
    "language_info": {
      "name": "python"
    }
  },
  "cells": [
    {
      "cell_type": "code",
      "execution_count": 1,
      "metadata": {
        "id": "K1M-pyEYwsES"
      },
      "outputs": [],
      "source": [
        "import pandas as pd\n",
        "import numpy as np\n",
        "from keras.models import Sequential\n",
        "from keras.layers import Embedding, LSTM, Dense\n",
        "from sklearn.model_selection import train_test_split\n",
        "from sklearn.preprocessing import LabelEncoder\n",
        "from sklearn.preprocessing import MultiLabelBinarizer\n",
        "from keras.preprocessing.text import Tokenizer\n",
        "from keras.preprocessing.sequence import pad_sequences\n",
        "from sklearn.metrics import accuracy_score, classification_report\n",
        "from tensorflow import keras\n",
        "from tensorflow.keras import layers\n",
        "from tensorflow.keras.utils import to_categorical\n",
        "from tensorflow.keras.callbacks import EarlyStopping\n",
        "import matplotlib.pyplot as plt\n",
        "import tensorflow as tf\n",
        "from transformers import BertTokenizer, TFBertForSequenceClassification\n",
        "from tensorflow.keras.optimizers import Adam\n",
        "from tensorflow.keras.losses import BinaryCrossentropy\n",
        "from tensorflow.keras.metrics import BinaryAccuracy"
      ]
    },
    {
      "cell_type": "code",
      "source": [
        "train_data = pd.read_csv(\"train.csv\")\n",
        "test_data = pd.read_csv(\"test.csv\")"
      ],
      "metadata": {
        "id": "N4TN0ixAwxnb"
      },
      "execution_count": 2,
      "outputs": []
    },
    {
      "cell_type": "code",
      "source": [
        "X = train_data['text'].tolist()\n",
        "y = train_data['target'].tolist()"
      ],
      "metadata": {
        "id": "MdzOv-fCxBPX"
      },
      "execution_count": 3,
      "outputs": []
    },
    {
      "cell_type": "markdown",
      "source": [
        "# **Tokenizing the text**"
      ],
      "metadata": {
        "id": "9mSrEqdkoOGy"
      }
    },
    {
      "cell_type": "code",
      "source": [
        "max = 1000\n",
        "tokenizer = Tokenizer(num_words = max, oov_token='<OOV>')\n",
        "tokenizer.fit_on_texts(X)\n",
        "sequence = tokenizer.texts_to_sequences(X)"
      ],
      "metadata": {
        "id": "iCfefdb0lGnv"
      },
      "execution_count": 4,
      "outputs": []
    },
    {
      "cell_type": "code",
      "source": [
        "maxlen = 100\n",
        "dataX =pad_sequences(sequence, maxlen=maxlen)"
      ],
      "metadata": {
        "id": "QFBqjEQxzM7P"
      },
      "execution_count": 5,
      "outputs": []
    },
    {
      "cell_type": "code",
      "source": [
        "y = np.array(y)"
      ],
      "metadata": {
        "id": "jIlYtkfUzoVX"
      },
      "execution_count": 6,
      "outputs": []
    },
    {
      "cell_type": "code",
      "source": [
        "X_train, X_val, y_train, y_val = train_test_split(dataX, y, test_size=0.2, random_state=42)"
      ],
      "metadata": {
        "id": "L9RfBCJnpeDZ"
      },
      "execution_count": 7,
      "outputs": []
    },
    {
      "cell_type": "code",
      "source": [
        "model = Sequential()\n",
        "model.add(Embedding(input_dim=max, output_dim=128, input_length=maxlen))\n",
        "model.add(LSTM(units=64))\n",
        "model.add(Dense(units=1, activation='sigmoid'))"
      ],
      "metadata": {
        "id": "2uzE9Se1zrf_"
      },
      "execution_count": 8,
      "outputs": []
    },
    {
      "cell_type": "code",
      "source": [
        "model.compile(optimizer=\"adam\", loss=\"binary_crossentropy\", metrics=['accuracy'])"
      ],
      "metadata": {
        "id": "rsv03OFg0q6Q"
      },
      "execution_count": 9,
      "outputs": []
    },
    {
      "cell_type": "code",
      "source": [
        "early_stopping = EarlyStopping(monitor='val_loss', patience=4,verbose=1,restore_best_weights = True)"
      ],
      "metadata": {
        "id": "p_YGJWeFrTRM"
      },
      "execution_count": 10,
      "outputs": []
    },
    {
      "cell_type": "code",
      "source": [
        "model.fit(X_train, y_train, epochs=20, batch_size=32, validation_data=(X_val, y_val), callbacks=[early_stopping])"
      ],
      "metadata": {
        "colab": {
          "base_uri": "https://localhost:8080/"
        },
        "id": "jQV_NOTc1U12",
        "outputId": "4a984737-54d3-490d-ba78-c5e4d52bb3f8"
      },
      "execution_count": 11,
      "outputs": [
        {
          "output_type": "stream",
          "name": "stdout",
          "text": [
            "Epoch 1/20\n",
            "191/191 [==============================] - 22s 98ms/step - loss: 0.5492 - accuracy: 0.7169 - val_loss: 0.4720 - val_accuracy: 0.7892\n",
            "Epoch 2/20\n",
            "191/191 [==============================] - 16s 83ms/step - loss: 0.4155 - accuracy: 0.8136 - val_loss: 0.4557 - val_accuracy: 0.7945\n",
            "Epoch 3/20\n",
            "191/191 [==============================] - 16s 85ms/step - loss: 0.3817 - accuracy: 0.8371 - val_loss: 0.4720 - val_accuracy: 0.8004\n",
            "Epoch 4/20\n",
            "191/191 [==============================] - 16s 85ms/step - loss: 0.3605 - accuracy: 0.8470 - val_loss: 0.4808 - val_accuracy: 0.7807\n",
            "Epoch 5/20\n",
            "191/191 [==============================] - 17s 91ms/step - loss: 0.3392 - accuracy: 0.8571 - val_loss: 0.5078 - val_accuracy: 0.7866\n",
            "Epoch 6/20\n",
            "191/191 [==============================] - ETA: 0s - loss: 0.3201 - accuracy: 0.8632Restoring model weights from the end of the best epoch: 2.\n",
            "191/191 [==============================] - 16s 86ms/step - loss: 0.3201 - accuracy: 0.8632 - val_loss: 0.5215 - val_accuracy: 0.7768\n",
            "Epoch 6: early stopping\n"
          ]
        },
        {
          "output_type": "execute_result",
          "data": {
            "text/plain": [
              "<keras.src.callbacks.History at 0x7b615907a740>"
            ]
          },
          "metadata": {},
          "execution_count": 11
        }
      ]
    },
    {
      "cell_type": "code",
      "source": [
        "model.save('trained_lstm_model.h5')"
      ],
      "metadata": {
        "colab": {
          "base_uri": "https://localhost:8080/"
        },
        "id": "ZqyiisGVkeee",
        "outputId": "3498acbb-d098-4aad-d266-3ff080bb8b03"
      },
      "execution_count": 12,
      "outputs": [
        {
          "output_type": "stream",
          "name": "stderr",
          "text": [
            "/usr/local/lib/python3.10/dist-packages/keras/src/engine/training.py:3079: UserWarning: You are saving your model as an HDF5 file via `model.save()`. This file format is considered legacy. We recommend using instead the native Keras format, e.g. `model.save('my_model.keras')`.\n",
            "  saving_api.save_model(\n"
          ]
        }
      ]
    }
  ]
}